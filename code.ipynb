{
 "cells": [
  {
   "cell_type": "code",
   "execution_count": 1,
   "id": "8312187d",
   "metadata": {},
   "outputs": [],
   "source": [
    "import random"
   ]
  },
  {
   "cell_type": "code",
   "execution_count": 2,
   "id": "77f30a19",
   "metadata": {},
   "outputs": [],
   "source": [
    "def deposit():\n",
    "    while True:\n",
    "        amount = input(\"What would you like to deposit? \")\n",
    "\n",
    "        try:\n",
    "            amount = int(amount)\n",
    "            if amount > 0:\n",
    "                return amount\n",
    "            else:\n",
    "                print(\"Amount must be greater than 0.\")\n",
    "        except ValueError:\n",
    "            print(\"Please enter a valid positive number.\")"
   ]
  },
  {
   "cell_type": "markdown",
   "id": "c098e0f9-187b-4adb-8197-0645a6ec57ff",
   "metadata": {},
   "source": [
    "It lets you “try” a piece of code, and if that code causes an exception (error), the program won’t crash — instead, it jumps to the except block "
   ]
  },
  {
   "cell_type": "code",
   "execution_count": 3,
   "id": "cd8bfb3a-8d82-425b-9ac6-d40db7ed2e0e",
   "metadata": {},
   "outputs": [
    {
     "data": {
      "text/plain": [
       "1000"
      ]
     },
     "execution_count": 3,
     "metadata": {},
     "output_type": "execute_result"
    }
   ],
   "source": [
    "deposit()"
   ]
  },
  {
   "cell_type": "code",
   "execution_count": 4,
   "id": "140d58db",
   "metadata": {},
   "outputs": [],
   "source": [
    "MAX_LINES = 3"
   ]
  },
  {
   "cell_type": "code",
   "execution_count": 5,
   "id": "7e4679d3-a1dc-4d6b-bf42-f758272c185a",
   "metadata": {},
   "outputs": [],
   "source": [
    "def number_of_lines():\n",
    "    while True:\n",
    "        lines = input(\n",
    "            f\"Enter the number of lines to bet on (1 - {MAX_LINES}): \")\n",
    "\n",
    "        try:\n",
    "            lines = int(lines)\n",
    "            if 1 <= lines <= MAX_LINES:\n",
    "                break\n",
    "            else:\n",
    "                print(\"Enter a valid number of line.\")\n",
    "        except ValueError:\n",
    "            print(\"Please enter a valid positive number.\")\n",
    "    return lines"
   ]
  },
  {
   "cell_type": "code",
   "execution_count": 6,
   "id": "d15db028-8349-4944-8eba-e6da38b79dc2",
   "metadata": {},
   "outputs": [
    {
     "data": {
      "text/plain": [
       "3"
      ]
     },
     "execution_count": 6,
     "metadata": {},
     "output_type": "execute_result"
    }
   ],
   "source": [
    "number_of_lines()"
   ]
  },
  {
   "cell_type": "code",
   "execution_count": 7,
   "id": "1a0ee82b",
   "metadata": {},
   "outputs": [],
   "source": [
    "MIN_BET = 5  # euro\n",
    "MAX_BET = 100"
   ]
  },
  {
   "cell_type": "code",
   "execution_count": 8,
   "id": "058bad6d-31ab-4684-991a-e36b12d68e1f",
   "metadata": {},
   "outputs": [],
   "source": [
    "def bet_amount():\n",
    "    while True:\n",
    "        amount = input(\n",
    "            f\"How much would you like to bet on each line? (Min: {MIN_BET}, Max: {MAX_BET}):\")\n",
    "\n",
    "        try:\n",
    "            amount = int(amount)\n",
    "            if MIN_BET <= amount <= MAX_BET:\n",
    "                break\n",
    "            else:\n",
    "                print(\n",
    "                    f\"Amount must be between {MIN_BET} - {MAX_BET}.\")\n",
    "        except ValueError:\n",
    "            print(\"Please enter a valid positive number.\")\n",
    "    return amount"
   ]
  },
  {
   "cell_type": "code",
   "execution_count": 41,
   "id": "1c74c1e3-b918-4c5c-bbb2-65fc528bc693",
   "metadata": {},
   "outputs": [
    {
     "data": {
      "text/plain": [
       "6"
      ]
     },
     "execution_count": 41,
     "metadata": {},
     "output_type": "execute_result"
    }
   ],
   "source": [
    "bet_amount()"
   ]
  },
  {
   "cell_type": "code",
   "execution_count": 9,
   "id": "49311892-4409-4e4e-aa76-7d5e102ac16f",
   "metadata": {},
   "outputs": [],
   "source": [
    "ROWS = 3\n",
    "COLS = 3  # reels\n",
    "symbol_count = {\n",
    "    \"A\": 2,  # most valuable symbol\n",
    "    \"B\": 4,\n",
    "    \"C\": 6,\n",
    "    \"D\": 8\n",
    "}  # 2 A in every reel, 4 B in every reel, etc. to choose from"
   ]
  },
  {
   "cell_type": "code",
   "execution_count": 10,
   "id": "e7166164",
   "metadata": {},
   "outputs": [],
   "source": [
    "symbol_value = {\n",
    "    \"A\": 5,\n",
    "    \"B\": 4,\n",
    "    \"C\": 3,\n",
    "    \"D\": 2\n",
    "}"
   ]
  },
  {
   "cell_type": "code",
   "execution_count": 11,
   "id": "a00d397b-5034-402a-b3a4-cda5450d4237",
   "metadata": {},
   "outputs": [],
   "source": [
    "def slot_machine_spin():\n",
    "    # Create the reels with symbol pools\n",
    "    all_symbols = []\n",
    "    for symbol, count in symbol_count.items():  # items() returns key-value pairs\n",
    "        all_symbols.extend([symbol] * count)\n",
    "\n",
    "    columns = []\n",
    "    for _ in range(COLS):\n",
    "        column = random.sample(all_symbols, ROWS)\n",
    "        columns.append(column)\n",
    "\n",
    "    return columns"
   ]
  },
  {
   "cell_type": "code",
   "execution_count": 12,
   "id": "cb240359-dcbf-4e74-98e5-cca61a26a48a",
   "metadata": {},
   "outputs": [
    {
     "data": {
      "text/plain": [
       "[['D', 'D', 'A'], ['C', 'A', 'C'], ['C', 'A', 'C']]"
      ]
     },
     "execution_count": 12,
     "metadata": {},
     "output_type": "execute_result"
    }
   ],
   "source": [
    "# col is a list of lists, each inner list is a column (reel):\n",
    "col = slot_machine_spin()\n",
    "col"
   ]
  },
  {
   "cell_type": "code",
   "execution_count": 13,
   "id": "b405053e",
   "metadata": {},
   "outputs": [],
   "source": [
    "def print_slot_machine(columns):\n",
    "    for row in range(ROWS):\n",
    "        print(\" | \".join(column[row] for column in columns))"
   ]
  },
  {
   "cell_type": "code",
   "execution_count": 14,
   "id": "11e8297e",
   "metadata": {},
   "outputs": [
    {
     "name": "stdout",
     "output_type": "stream",
     "text": [
      "D | C | C\n",
      "D | A | A\n",
      "A | C | C\n"
     ]
    }
   ],
   "source": [
    "print_slot_machine(col)"
   ]
  },
  {
   "cell_type": "code",
   "execution_count": 15,
   "id": "824cc203",
   "metadata": {},
   "outputs": [
    {
     "name": "stdout",
     "output_type": "stream",
     "text": [
      "[['D', 'D', 'A'], ['C', 'A', 'C'], ['C', 'A', 'C']]\n",
      "['D', 'D', 'A']\n",
      "A\n"
     ]
    }
   ],
   "source": [
    "print(col)\n",
    "print(col[0])\n",
    "print(col[0][2])"
   ]
  },
  {
   "cell_type": "code",
   "execution_count": 16,
   "id": "684cb788",
   "metadata": {},
   "outputs": [],
   "source": [
    "def check_winnings(columns, lines, bet):\n",
    "    winnings = 0\n",
    "    winning_lines = []\n",
    "\n",
    "    for line in range(lines):\n",
    "        symbol = columns[0][line]\n",
    "        if all(column[line] == symbol for column in columns):\n",
    "            winnings += symbol_value[symbol] * bet\n",
    "            winning_lines.append(line + 1)\n",
    "\n",
    "    return winnings, winning_lines"
   ]
  },
  {
   "cell_type": "code",
   "execution_count": 17,
   "id": "b6acd79b",
   "metadata": {},
   "outputs": [],
   "source": [
    "def game():\n",
    "    balance = deposit()\n",
    "\n",
    "    while True:\n",
    "        print(f\"Current balance: ${balance}\")\n",
    "        lines = number_of_lines()\n",
    "        bet = bet_amount()\n",
    "        total_bet = bet * lines\n",
    "\n",
    "        if total_bet > balance:\n",
    "            print(f\"Not enough balance to place bet, you have ${balance}.\")\n",
    "            continue\n",
    "\n",
    "        print(\n",
    "            f\"You are betting ${bet} on {lines} lines. Total bet: ${total_bet}\")\n",
    "        balance -= total_bet\n",
    "\n",
    "        slots = slot_machine_spin()\n",
    "        print_slot_machine(slots)\n",
    "        winnings, winning_lines = check_winnings(slots, lines, bet)\n",
    "        balance += winnings\n",
    "\n",
    "        print(f\"You won ${winnings} on lines:\", \", \".join(\n",
    "            map(str, winning_lines)) if winning_lines else \"none\")\n",
    "        print(f\"New balance: ${balance}\")\n",
    "\n",
    "        again = input(\"Press Enter to play again (q to quit): \")\n",
    "        if again.lower() == \"q\":\n",
    "            break\n",
    "\n",
    "    print(f\"You left with ${balance}\")"
   ]
  },
  {
   "cell_type": "code",
   "execution_count": 18,
   "id": "a0d6eeb3",
   "metadata": {},
   "outputs": [
    {
     "name": "stdout",
     "output_type": "stream",
     "text": [
      "Current balance: $1000\n",
      "You are betting $50 on 3 lines. Total bet: $150\n",
      "D | C | B\n",
      "C | C | A\n",
      "D | C | D\n",
      "You won $0 on lines: none\n",
      "New balance: $850\n",
      "You left with $850\n"
     ]
    }
   ],
   "source": [
    "game()"
   ]
  }
 ],
 "metadata": {
  "kernelspec": {
   "display_name": "Python 3 (ipykernel)",
   "language": "python",
   "name": "python3"
  },
  "language_info": {
   "codemirror_mode": {
    "name": "ipython",
    "version": 3
   },
   "file_extension": ".py",
   "mimetype": "text/x-python",
   "name": "python",
   "nbconvert_exporter": "python",
   "pygments_lexer": "ipython3",
   "version": "3.12.0"
  }
 },
 "nbformat": 4,
 "nbformat_minor": 5
}
